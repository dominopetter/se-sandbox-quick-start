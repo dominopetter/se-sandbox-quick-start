{
 "cells": [
  {
   "cell_type": "code",
   "execution_count": null,
   "id": "03e30300-f9a8-455f-af75-85e196f082a9",
   "metadata": {},
   "outputs": [],
   "source": [
    "# Use the API to kick off a job"
   ]
  },
  {
   "cell_type": "code",
   "execution_count": null,
   "id": "f6fca530-6ef9-4fa5-85b4-cda74b5edef7",
   "metadata": {},
   "outputs": [],
   "source": [
    "from urllib2 import Request, urlopen\n",
    "\n",
    "values = \"\"\"\n",
    "  {\n",
    "    \"command\": [\n",
    "      \"main.py\",\n",
    "      \"random-argument\",\n",
    "      \"--sample\",\n",
    "      \"2000\"\n",
    "    ],\n",
    "    \"isDirect\": false,\n",
    "    \"title\": \"This one should work!\",\n",
    "    \"tier\": \"gpu\",\n",
    "    \"commitId\": \"1c6e8aa47951e39f9a905f0077af9355c35b712b\",\n",
    "    \"publishApiEndpoint\": false,\n",
    "    \"datasetConfig\": \"''\"\n",
    "  }\n",
    "\"\"\"\n",
    "\n",
    "headers = {\n",
    "  'Content-Type': 'application/json',\n",
    "  'X-Domino-Api-Key': 'YOUR_DOMINO_API_KEY'\n",
    "}\n",
    "request = Request('https://api.dominodatalab.com/v1/projects/{username}/{project_name}/runs', data=values, headers=headers)\n",
    "\n",
    "response_body = urlopen(request).read()\n",
    "print response_body"
   ]
  }
 ],
 "metadata": {
  "kernelspec": {
   "display_name": "Python 3 (ipykernel)",
   "language": "python",
   "name": "python3"
  },
  "language_info": {
   "codemirror_mode": {
    "name": "ipython",
    "version": 3
   },
   "file_extension": ".py",
   "mimetype": "text/x-python",
   "name": "python",
   "nbconvert_exporter": "python",
   "pygments_lexer": "ipython3",
   "version": "3.8.12"
  }
 },
 "nbformat": 4,
 "nbformat_minor": 5
}
